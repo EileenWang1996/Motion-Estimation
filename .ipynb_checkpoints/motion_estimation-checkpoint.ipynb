{
 "cells": [
  {
   "cell_type": "code",
   "execution_count": 13,
   "metadata": {},
   "outputs": [],
   "source": [
    "import cv2\n",
    "import sys\n",
    "import os\n",
    "from matplotlib import pyplot as plt\n",
    "import numpy as np"
   ]
  },
  {
   "cell_type": "markdown",
   "metadata": {},
   "source": [
    "## Play Video"
   ]
  },
  {
   "cell_type": "code",
   "execution_count": 75,
   "metadata": {},
   "outputs": [],
   "source": [
    "path_to_vid = \"E:/Documents/University/2018 Semester 2/COMP3419 Graphics and Multimedia/Labs/monkey.avi\"\n",
    "frame_save_path = \"E:/Documents/University/2018 Semester 2/COMP3419 Graphics and Multimedia/Labs/Frames/\"\n",
    "output_vid_path = \"E:/Documents/University/2018 Semester 2/COMP3419 Graphics and Multimedia/Labs/Labs/monkey.mov\""
   ]
  },
  {
   "cell_type": "code",
   "execution_count": 77,
   "metadata": {},
   "outputs": [],
   "source": [
    "vid_cap = cv2.VideoCapture(path_to_vid)\n",
    "if vid_cap.isOpened() == False:\n",
    "    print(\"Error capturing video.\")\n",
    "    sys.exit(1)\n",
    "frame_count = int(vid_cap.get(cv2.CAP_PROP_FRAME_COUNT))\n",
    "frame_height = 360\n",
    "frame_width = 640"
   ]
  },
  {
   "cell_type": "code",
   "execution_count": 1,
   "metadata": {},
   "outputs": [
    {
     "ename": "NameError",
     "evalue": "name 'vid_cap' is not defined",
     "output_type": "error",
     "traceback": [
      "\u001b[1;31m---------------------------------------------------------------------------\u001b[0m",
      "\u001b[1;31mNameError\u001b[0m                                 Traceback (most recent call last)",
      "\u001b[1;32m<ipython-input-1-844e17ff6aa9>\u001b[0m in \u001b[0;36m<module>\u001b[1;34m()\u001b[0m\n\u001b[0;32m      1\u001b[0m \u001b[0mframes\u001b[0m \u001b[1;33m=\u001b[0m \u001b[1;33m[\u001b[0m\u001b[1;33m]\u001b[0m\u001b[1;33m\u001b[0m\u001b[0m\n\u001b[0;32m      2\u001b[0m \u001b[1;32mwhile\u001b[0m\u001b[1;33m(\u001b[0m\u001b[1;32mTrue\u001b[0m\u001b[1;33m)\u001b[0m\u001b[1;33m:\u001b[0m\u001b[1;33m\u001b[0m\u001b[0m\n\u001b[1;32m----> 3\u001b[1;33m     \u001b[0mhas_more\u001b[0m\u001b[1;33m,\u001b[0m \u001b[0mframe\u001b[0m \u001b[1;33m=\u001b[0m \u001b[0mvid_cap\u001b[0m\u001b[1;33m.\u001b[0m\u001b[0mread\u001b[0m\u001b[1;33m(\u001b[0m\u001b[1;33m)\u001b[0m\u001b[1;33m\u001b[0m\u001b[0m\n\u001b[0m\u001b[0;32m      4\u001b[0m     \u001b[1;32mif\u001b[0m \u001b[0mhas_more\u001b[0m \u001b[1;33m==\u001b[0m \u001b[1;32mFalse\u001b[0m\u001b[1;33m:\u001b[0m\u001b[1;33m\u001b[0m\u001b[0m\n\u001b[0;32m      5\u001b[0m         \u001b[0mprint\u001b[0m\u001b[1;33m(\u001b[0m\u001b[1;34m\"No more frames in video file.\"\u001b[0m\u001b[1;33m)\u001b[0m\u001b[1;33m\u001b[0m\u001b[0m\n",
      "\u001b[1;31mNameError\u001b[0m: name 'vid_cap' is not defined"
     ]
    }
   ],
   "source": [
    "frames = []\n",
    "while(True):\n",
    "    has_more, frame = vid_cap.read() \n",
    "    if has_more == False: \n",
    "        print(\"No more frames in video file.\")\n",
    "        break\n",
    "    resize = cv2.resize(frame, (640, 360)) \n",
    "    cv2.imshow(\"ball\", resize)\n",
    "    frames.append(resize)\n",
    "    if cv2.waitKey(20) & 0xff == ord('q'):\n",
    "        break\n",
    "vid_cap.release()\n",
    "cv2.destroyAllWindows()"
   ]
  },
  {
   "cell_type": "markdown",
   "metadata": {},
   "source": [
    "## Visualising Boundary"
   ]
  },
  {
   "cell_type": "code",
   "execution_count": null,
   "metadata": {},
   "outputs": [],
   "source": [
    "kernel = np.ones((15,15))\n",
    "frame_counter = 0\n",
    "for frame in frames: \n",
    "    dilated_img = cv2.dilate(frame, kernel, iterations = 1)\n",
    "    eroded_img = cv2.erode(dilated_img, kernel, iterations=1) \n",
    "    edges = cv2.Canny(eroded_img, 100, 100)\n",
    "    cv2.imwrite(frame_save_path + 'frame%d.tif' % frame_counter, edges)\n",
    "    frame_counter += 1"
   ]
  },
  {
   "cell_type": "markdown",
   "metadata": {},
   "source": [
    "## Motion Estimation Implementation"
   ]
  },
  {
   "cell_type": "code",
   "execution_count": 53,
   "metadata": {},
   "outputs": [
    {
     "name": "stdout",
     "output_type": "stream",
     "text": [
      "72 128\n"
     ]
    },
    {
     "data": {
      "text/plain": [
       "(752, 72, 128, 2)"
      ]
     },
     "execution_count": 53,
     "metadata": {},
     "output_type": "execute_result"
    }
   ],
   "source": [
    "K = 5\n",
    "radius = 1\n",
    "threshold = 25\n",
    "block_height = int(np.ceil(frame_height/K))\n",
    "block_width = int(np.ceil(frame_width/K))\n",
    "print(block_height, block_width)\n",
    "block_x, block_y = 0, 0\n",
    "displacement_vectors = np.empty((frame_count, block_height, block_width, 2))\n",
    "displacement_vectors.shape"
   ]
  },
  {
   "cell_type": "code",
   "execution_count": 41,
   "metadata": {},
   "outputs": [],
   "source": [
    "def calculate_SSD(anchor_B, target_B):\n",
    "    '''Return sum of squared displacement.'''\n",
    "    SSD = 0\n",
    "    if anchor_B.shape != target_B.shape: \n",
    "        print(anchor_B.shape, target_B.shape)\n",
    "    for i in range(0, anchor_B.shape[0]): \n",
    "        for j in range(0, anchor_B.shape[1]):\n",
    "            anchor_red = int(anchor_B[i][j][0])\n",
    "            anchor_green = int(anchor_B[i][j][1])\n",
    "            anchor_blue = int(anchor_B[i][j][2])\n",
    "            target_red = int(target_B[i][j][0])\n",
    "            target_green = int(target_B[i][j][1])\n",
    "            target_blue = int(target_B[i][j][2])\n",
    "            diff = (anchor_red - target_red)^2 + (anchor_green - target_green)^2 + (anchor_blue - target_blue)^2\n",
    "            SSD = SSD + diff\n",
    "    return np.sqrt(SSD)"
   ]
  },
  {
   "cell_type": "code",
   "execution_count": 48,
   "metadata": {},
   "outputs": [],
   "source": [
    "def draw_dot(frame, x1, y1): \n",
    "    '''Draw a dot in centre of the block.'''\n",
    "    centre = (y1, x1)\n",
    "    frame = cv2.circle(frame, centre, 1 , (0,255,0), -1)\n",
    "    return frame "
   ]
  },
  {
   "cell_type": "code",
   "execution_count": 71,
   "metadata": {},
   "outputs": [],
   "source": [
    "def draw_arrow(frame, x1, y1, x2, y2): \n",
    "    '''Draw arrows over the frame for motion visualisation.'''\n",
    "    pt1 = (y1, x1)\n",
    "    pt2 = (y2, x2)\n",
    "    frame = cv2.arrowedLine(frame, pt2, pt1, (0,255,0), 1)\n",
    "    return frame "
   ]
  },
  {
   "cell_type": "code",
   "execution_count": 72,
   "metadata": {},
   "outputs": [],
   "source": [
    "frame_counter = 0"
   ]
  },
  {
   "cell_type": "code",
   "execution_count": 73,
   "metadata": {},
   "outputs": [
    {
     "name": "stderr",
     "output_type": "stream",
     "text": [
      "D:\\Anaconda\\lib\\site-packages\\ipykernel_launcher.py:16: RuntimeWarning: invalid value encountered in sqrt\n",
      "  app.launch_new_instance()\n"
     ]
    },
    {
     "ename": "KeyboardInterrupt",
     "evalue": "",
     "output_type": "error",
     "traceback": [
      "\u001b[1;31m---------------------------------------------------------------------------\u001b[0m",
      "\u001b[1;31mKeyboardInterrupt\u001b[0m                         Traceback (most recent call last)",
      "\u001b[1;32m<ipython-input-73-eb5dc4d0056b>\u001b[0m in \u001b[0;36m<module>\u001b[1;34m()\u001b[0m\n\u001b[0;32m     15\u001b[0m                     \u001b[1;32mif\u001b[0m \u001b[0mx_iter\u001b[0m \u001b[1;33m==\u001b[0m \u001b[0mx\u001b[0m \u001b[1;32mand\u001b[0m \u001b[0my_iter\u001b[0m \u001b[1;33m==\u001b[0m \u001b[0my\u001b[0m\u001b[1;33m:\u001b[0m \u001b[1;32mcontinue\u001b[0m\u001b[1;33m\u001b[0m\u001b[0m\n\u001b[0;32m     16\u001b[0m                     \u001b[0mtarget_frame_block\u001b[0m \u001b[1;33m=\u001b[0m \u001b[0mtarget_frame\u001b[0m\u001b[1;33m[\u001b[0m\u001b[0mx_iter\u001b[0m\u001b[1;33m:\u001b[0m\u001b[0mx_iter\u001b[0m\u001b[1;33m+\u001b[0m\u001b[0mK\u001b[0m\u001b[1;33m,\u001b[0m\u001b[0my_iter\u001b[0m\u001b[1;33m:\u001b[0m\u001b[0my_iter\u001b[0m\u001b[1;33m+\u001b[0m\u001b[0mK\u001b[0m\u001b[1;33m]\u001b[0m\u001b[1;33m\u001b[0m\u001b[0m\n\u001b[1;32m---> 17\u001b[1;33m                     \u001b[0mSSD\u001b[0m \u001b[1;33m=\u001b[0m \u001b[0mcalculate_SSD\u001b[0m\u001b[1;33m(\u001b[0m\u001b[0manchor_frame_block\u001b[0m\u001b[1;33m,\u001b[0m \u001b[0mtarget_frame_block\u001b[0m\u001b[1;33m)\u001b[0m\u001b[1;33m\u001b[0m\u001b[0m\n\u001b[0m\u001b[0;32m     18\u001b[0m                     \u001b[1;32mif\u001b[0m \u001b[0mSSD\u001b[0m \u001b[1;33m<\u001b[0m \u001b[0mSSD_MIN\u001b[0m\u001b[1;33m:\u001b[0m\u001b[1;33m\u001b[0m\u001b[0m\n\u001b[0;32m     19\u001b[0m                         \u001b[0mSSD_MIN\u001b[0m \u001b[1;33m=\u001b[0m \u001b[0mSSD\u001b[0m\u001b[1;33m\u001b[0m\u001b[0m\n",
      "\u001b[1;32m<ipython-input-41-4a4ecf06333c>\u001b[0m in \u001b[0;36mcalculate_SSD\u001b[1;34m(anchor_B, target_B)\u001b[0m\n\u001b[0;32m      7\u001b[0m         \u001b[1;32mfor\u001b[0m \u001b[0mj\u001b[0m \u001b[1;32min\u001b[0m \u001b[0mrange\u001b[0m\u001b[1;33m(\u001b[0m\u001b[1;36m0\u001b[0m\u001b[1;33m,\u001b[0m \u001b[0manchor_B\u001b[0m\u001b[1;33m.\u001b[0m\u001b[0mshape\u001b[0m\u001b[1;33m[\u001b[0m\u001b[1;36m1\u001b[0m\u001b[1;33m]\u001b[0m\u001b[1;33m)\u001b[0m\u001b[1;33m:\u001b[0m\u001b[1;33m\u001b[0m\u001b[0m\n\u001b[0;32m      8\u001b[0m             \u001b[0manchor_red\u001b[0m \u001b[1;33m=\u001b[0m \u001b[0mint\u001b[0m\u001b[1;33m(\u001b[0m\u001b[0manchor_B\u001b[0m\u001b[1;33m[\u001b[0m\u001b[0mi\u001b[0m\u001b[1;33m]\u001b[0m\u001b[1;33m[\u001b[0m\u001b[0mj\u001b[0m\u001b[1;33m]\u001b[0m\u001b[1;33m[\u001b[0m\u001b[1;36m0\u001b[0m\u001b[1;33m]\u001b[0m\u001b[1;33m)\u001b[0m\u001b[1;33m\u001b[0m\u001b[0m\n\u001b[1;32m----> 9\u001b[1;33m             \u001b[0manchor_green\u001b[0m \u001b[1;33m=\u001b[0m \u001b[0mint\u001b[0m\u001b[1;33m(\u001b[0m\u001b[0manchor_B\u001b[0m\u001b[1;33m[\u001b[0m\u001b[0mi\u001b[0m\u001b[1;33m]\u001b[0m\u001b[1;33m[\u001b[0m\u001b[0mj\u001b[0m\u001b[1;33m]\u001b[0m\u001b[1;33m[\u001b[0m\u001b[1;36m1\u001b[0m\u001b[1;33m]\u001b[0m\u001b[1;33m)\u001b[0m\u001b[1;33m\u001b[0m\u001b[0m\n\u001b[0m\u001b[0;32m     10\u001b[0m             \u001b[0manchor_blue\u001b[0m \u001b[1;33m=\u001b[0m \u001b[0mint\u001b[0m\u001b[1;33m(\u001b[0m\u001b[0manchor_B\u001b[0m\u001b[1;33m[\u001b[0m\u001b[0mi\u001b[0m\u001b[1;33m]\u001b[0m\u001b[1;33m[\u001b[0m\u001b[0mj\u001b[0m\u001b[1;33m]\u001b[0m\u001b[1;33m[\u001b[0m\u001b[1;36m2\u001b[0m\u001b[1;33m]\u001b[0m\u001b[1;33m)\u001b[0m\u001b[1;33m\u001b[0m\u001b[0m\n\u001b[0;32m     11\u001b[0m             \u001b[0mtarget_red\u001b[0m \u001b[1;33m=\u001b[0m \u001b[0mint\u001b[0m\u001b[1;33m(\u001b[0m\u001b[0mtarget_B\u001b[0m\u001b[1;33m[\u001b[0m\u001b[0mi\u001b[0m\u001b[1;33m]\u001b[0m\u001b[1;33m[\u001b[0m\u001b[0mj\u001b[0m\u001b[1;33m]\u001b[0m\u001b[1;33m[\u001b[0m\u001b[1;36m0\u001b[0m\u001b[1;33m]\u001b[0m\u001b[1;33m)\u001b[0m\u001b[1;33m\u001b[0m\u001b[0m\n",
      "\u001b[1;31mKeyboardInterrupt\u001b[0m: "
     ]
    }
   ],
   "source": [
    "for i in range(0, frame_count-1): \n",
    "    anchor_frame = frames[i]\n",
    "    target_frame = frames[i+1]\n",
    "    for x in range(0, frame_height-K, K): #for every block in every frame; rows\n",
    "        for y in range(0, frame_width-K, K): #columns \n",
    "            SSD_MIN = np.inf\n",
    "            disp_x, disp_y, min_ssd_x, min_ssd_y = 0, 0, 0, 0 \n",
    "            anchor_frame_block = anchor_frame[x:x+K,y:y+K] #get block of anchor frame \n",
    "            for x_iter in range(x-radius*K, x+radius*K, K): #search around radius anchor frame in target frame,\n",
    "                if x_iter < 0: x_iter = 0\n",
    "                if x_iter > frame_height: x_iter = frame_height - 1\n",
    "                for y_iter in range(y-radius*K, y+radius*K, K):\n",
    "                    if y_iter < 0: y_iter = 0 \n",
    "                    if y_iter > frame_width: y_iter = frame_width - 1\n",
    "                    if x_iter == x and y_iter == y: continue \n",
    "                    target_frame_block = target_frame[x_iter:x_iter+K,y_iter:y_iter+K]\n",
    "                    SSD = calculate_SSD(anchor_frame_block, target_frame_block)\n",
    "                    if SSD < SSD_MIN:\n",
    "                        SSD_MIN = SSD \n",
    "                        min_ssd_x = int(x_iter + ((K-1)/2));\n",
    "                        min_ssd_y = int(y_iter + ((K-1)/2));\n",
    "                        disp_x = x_iter - x\n",
    "                        disp_y = y_iter - y\n",
    "            displacement_vectors[i][block_x][block_y][0] = disp_x \n",
    "            displacement_vectors[i][block_x][block_y][1] = disp_y\n",
    "            if SSD_MIN > threshold and SSD_MIN != np.inf and anchor_frame_block.shape == target_frame_block.shape: \n",
    "                new_frame = draw_dot(anchor_frame, int(x + ((K-1)/2)), int(y + ((K-1)/2)))\n",
    "                #new_frame2 = draw_arrow(anchor_frame, min_ssd_x, min_ssd_y,  int(x + ((K-1)/2)), int(y + ((K-1)/2)))\n",
    "            block_y += 1\n",
    "            if block_y == block_width: block_y = 0\n",
    "        block_x += 1\n",
    "        if block_x == block_height: block_x = 0\n",
    "    cv2.imwrite(frame_save_path + 'frame%d.tif' % frame_counter, new_frame)\n",
    "    #cv2.imwrite(frame_save_path2 + 'frame%d.tif' % frame_counter, new_frame2)\n",
    "    frame_counter += 1"
   ]
  },
  {
   "cell_type": "markdown",
   "metadata": {},
   "source": [
    "## Output Video with Drawn Arrows or Dots"
   ]
  },
  {
   "cell_type": "code",
   "execution_count": 23,
   "metadata": {},
   "outputs": [],
   "source": [
    "def create_vid(frame_load_path, path_to_output_video):\n",
    "    out = cv2.VideoWriter(path_to_output_video, cv2.VideoWriter_fourcc('M', 'J', 'P', 'G'), 10, (int(frame_width), int(frame_height)))\n",
    "    frame_counter = 0\n",
    "    while(1):\n",
    "        img = cv2.imread(frame_load_path + 'frame%d.tif' % frame_counter)\n",
    "        if img is None:\n",
    "            print('No more frames to be loaded')\n",
    "            break;\n",
    "        out.write(img)\n",
    "        frame_counter += 1\n",
    "    out.release()\n",
    "    cv2.destroyAllWindows()"
   ]
  },
  {
   "cell_type": "code",
   "execution_count": 76,
   "metadata": {},
   "outputs": [
    {
     "name": "stdout",
     "output_type": "stream",
     "text": [
      "No more frames to be loaded\n"
     ]
    }
   ],
   "source": [
    "create_vid(frame_save_path, output_vid_path)"
   ]
  }
 ],
 "metadata": {
  "kernelspec": {
   "display_name": "Python 3",
   "language": "python",
   "name": "python3"
  },
  "language_info": {
   "codemirror_mode": {
    "name": "ipython",
    "version": 3
   },
   "file_extension": ".py",
   "mimetype": "text/x-python",
   "name": "python",
   "nbconvert_exporter": "python",
   "pygments_lexer": "ipython3",
   "version": "3.6.6"
  }
 },
 "nbformat": 4,
 "nbformat_minor": 2
}
